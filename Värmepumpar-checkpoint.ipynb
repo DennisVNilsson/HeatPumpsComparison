{
 "cells": [
  {
   "cell_type": "code",
   "execution_count": 1,
   "metadata": {
    "collapsed": true,
    "pycharm": {
     "name": "#%%\n"
    }
   },
   "outputs": [],
   "source": [
    "import math\n",
    "import xml.etree.ElementTree as ET\n",
    "from statistics import mean\n",
    "\n",
    "import requests\n",
    "import re\n",
    "import pandas as pd\n",
    "import xlrd\n",
    "from openpyxl import load_workbook\n",
    "\n",
    "\n",
    "def get_available_stations_id():\n",
    "    \"\"\"\n",
    "    Retrives a list of all available stations and their id's - regardless of station type and size.\n",
    "    :return: List of stations id's\n",
    "    \"\"\"\n",
    "    stations = requests.get('https://opendata-download-metobs.smhi.se/api/version/1.0/parameter/2.atom')\n",
    "    root = ET.fromstring(stations.text)\n",
    "    available_stations = []\n",
    "    for child in root:\n",
    "        if child.tag == '{http://www.w3.org/2005/Atom}entry':\n",
    "            for subchild in child:\n",
    "                if subchild.tag == '{http://www.w3.org/2005/Atom}id':\n",
    "                    url_string = subchild.text\n",
    "                    # extract station id from url which is not 1\n",
    "                    station_id = re.search(r'(?<=station/)\\d+', url_string).group(0)\n",
    "                    available_stations.append(station_id)\n",
    "    return available_stations\n",
    "\n",
    "\n",
    "def get_data(stations, period, version='1.0', param='2'):\n",
    "    \"\"\"\n",
    "    Retrives data from SMHI API, for a given station or list of stations and a given period.\n",
    "    :param param: Parameter to retrieve data for, 2 = Daily average temperature\n",
    "    :param version: API version\n",
    "    :param stations: list of station id(s)\n",
    "    :param period: latest-hour or atest-day or latest-months or corrected-archive\n",
    "    :return: List of lists, each list containing longitude coordinate, latitude coordinate, and a pandas dataframe with\n",
    "    temperatures and dates.\n",
    "    \"\"\"\n",
    "    result = []\n",
    "\n",
    "    for station in stations:\n",
    "        temperatures = requests.get(\n",
    "            'https://opendata-download-metobs.smhi.se/api/version/{}/parameter/{}/station/{}/period'\n",
    "            '/{}/data.csv'.format(version, param, station, period))\n",
    "        long, lat = float(temperatures.text.split(';')[17].strip().split('\\n', 1)[0]), float(\n",
    "            (temperatures.text.split(';')[18]).strip().split('\\n', 1)[0])\n",
    "        readable_temperatures = temperatures.text.split('\\n', 9)[9]\n",
    "        df = pd.DataFrame([x.split(';') for x in readable_temperatures.split('\\n')[:-1]]).drop([0, 1, 5, 6], axis=1)\n",
    "        new_header = df.iloc[0]\n",
    "        df = df[1:]\n",
    "        df.columns = new_header\n",
    "        result.append([long, lat, df])\n",
    "    return result"
   ]
  },
  {
   "cell_type": "code",
   "execution_count": 2,
   "metadata": {
    "pycharm": {
     "name": "#%%\n"
    }
   },
   "outputs": [],
   "source": [
    "stations_ids = get_available_stations_id()\n",
    "# data = get_data([stations[0]], 'corrected-archive')\n",
    "stations_data = get_data([stations_ids[11]], 'corrected-archive')"
   ]
  },
  {
   "cell_type": "code",
   "execution_count": 3,
   "metadata": {
    "pycharm": {
     "name": "#%%\n"
    }
   },
   "outputs": [],
   "source": [
    "def qut(temp):\n",
    "    # Constants: [W/(m^2 K)]\n",
    "    u_wall = 0.13\n",
    "    u_window = 4  # Rimligt, värde\n",
    "    u_roof = 0.13\n",
    "    u_floor = 0.12\n",
    "    u_door = 1\n",
    "    short_wall = 5  # m\n",
    "    long_wall = 10  # m\n",
    "    height = 6  # m 3 kankse?\n",
    "    area_floor = short_wall * long_wall  # m^2\n",
    "    area_walls = (2 * height * short_wall) + (2 * height * long_wall)  # m^2\n",
    "    antal_fönster = 10\n",
    "    antal_dörrar = 2\n",
    "    area_windows = 1.5 * 1 * antal_fönster  # m^2\n",
    "    alpha = math.pi / 6  # Rad\n",
    "    area_roof = (short_wall * long_wall) / (math.cos(alpha))  # m^2\n",
    "    area_doors = 2.1 * 1 * antal_dörrar  # m^2\n",
    "    t_inne = 20  # C\n",
    "    enhetsomvanlding = (3600 * 24 * 10**(-6)) / 3.6  # kWh/dag\n",
    "    q_wall = u_wall * area_walls * (t_inne - temp)\n",
    "    q_roof = u_roof * area_roof * (t_inne - temp)\n",
    "    q_floor = u_floor * area_floor * (t_inne - temp)\n",
    "    q_window = u_window * area_windows * (t_inne - temp)\n",
    "    q_door = u_door * area_doors * (t_inne - temp)\n",
    "    return (q_wall + q_roof + q_floor + q_window + q_door) * enhetsomvanlding  # kWh\n",
    "\n",
    "\n",
    "def dates():\n",
    "    res = []\n",
    "    for i in range(2013, 2023):\n",
    "        for j in range(1, 13):\n",
    "            if len(str(j)) == 1:\n",
    "                j = '0' + str(j)\n",
    "            res.append(str(i) + '-' + str(j))\n",
    "    res.remove('2013-01')\n",
    "    res.remove('2013-02')\n",
    "    res.remove('2013-03')\n",
    "    res.pop()\n",
    "    res.pop()\n",
    "    return res\n",
    "\n",
    "def vinst(Q, pris, scop=3.8):\n",
    "    return Q * pris * (1 - (1/scop))"
   ]
  },
  {
   "cell_type": "code",
   "execution_count": 4,
   "metadata": {
    "pycharm": {
     "name": "#%%\n"
    }
   },
   "outputs": [
    {
     "name": "stdout",
     "output_type": "stream",
     "text": [
      "63.9967 14.6701\n",
      "0                     None            None      None\n",
      "1      Representativt dygn  Lufttemperatur  Kvalitet\n",
      "2               1964-12-01            -9.5         Y\n",
      "3               1964-12-02            -7.9         Y\n",
      "4               1964-12-03            -3.8         Y\n",
      "5               1964-12-04            -4.9         Y\n",
      "...                    ...             ...       ...\n",
      "19769           2022-07-27             7.7         Y\n",
      "19770           2022-07-28             8.2         Y\n",
      "19771           2022-07-29            10.6         Y\n",
      "19772           2022-07-30            13.2         Y\n",
      "19773           2022-07-31            14.7         Y\n",
      "\n",
      "[19773 rows x 3 columns]\n"
     ]
    }
   ],
   "source": [
    "for long, lat, df in stations_data:\n",
    "    print(long, lat)\n",
    "    print(df)"
   ]
  },
  {
   "cell_type": "code",
   "execution_count": 7,
   "metadata": {},
   "outputs": [
    {
     "name": "stdout",
     "output_type": "stream",
     "text": [
      "0\n"
     ]
    }
   ],
   "source": [
    "datum = dates()\n",
    "pris_omrade1 = {}\n",
    "pris_omrade2 = {}\n",
    "pris_omrade3 = {}\n",
    "pris_omrade4 = {}\n",
    "path = '/Users/dennisnilsson/IdeaProjects/michel/venv/manadsvarden_2022m10_.xlsx'\n",
    "wb = load_workbook(path)\n",
    "sheet = wb['Anvisat avtal']\n",
    "all_rows = list(sheet.rows)\n",
    "omraden = []\n",
    "for row in all_rows[1:44]:\n",
    "    if row[0].value == 'Större hushåll':\n",
    "        res = []\n",
    "        for cell in row[3:(121 - 3)]:\n",
    "            res.append(cell.value)\n",
    "        omraden.append(res)\n",
    "for i in range(0, len(datum)):\n",
    "    pris_omrade1[datum[i]] = omraden[0][i]\n",
    "    pris_omrade2[datum[i]] = omraden[1][i]\n",
    "    pris_omrade3[datum[i]] = omraden[2][i]\n",
    "    pris_omrade4[datum[i]] = omraden[3][i]\n",
    "q_ut1 = []\n",
    "# mean_temp = []\n",
    "# for i in range(1, 366):\n",
    "#    j =float(stations_data[0][2].iloc[i, 1])\n",
    "#    mean_temp.append(j)\n",
    "# mt = mean(mean_temp)\n",
    "# print(mt)\n",
    "\n",
    "for temp in stations_data[0][2].iloc[1:, 1]:\n",
    "    if temp is not None and float(temp) < 20:\n",
    "        q_ut1.append(qut(float(temp)))\n",
    "    else:\n",
    "        q_ut1.append(0)\n",
    "stations_data[0][2]['Q'] = [0] + q_ut1\n",
    "# print(sum(stations_data[0][2].iloc[19773-365:, 3]))\n",
    "vinst_col = []\n",
    "df = stations_data[0][2]\n",
    "start = 0\n",
    "if datum[0] in df.iloc[:, 0].values and datum[-1] in df.iloc[:, 0].values:\n",
    "    start = df[df.iloc[:, 0] == datum[0]].index[0]\n",
    "print(start)"
   ]
  },
  {
   "cell_type": "code",
   "execution_count": null,
   "metadata": {},
   "outputs": [],
   "source": []
  }
 ],
 "metadata": {
  "kernelspec": {
   "display_name": "Python 3 (ipykernel)",
   "language": "python",
   "name": "python3"
  },
  "language_info": {
   "codemirror_mode": {
    "name": "ipython",
    "version": 3
   },
   "file_extension": ".py",
   "mimetype": "text/x-python",
   "name": "python",
   "nbconvert_exporter": "python",
   "pygments_lexer": "ipython3",
   "version": "3.10.5"
  }
 },
 "nbformat": 4,
 "nbformat_minor": 1
}
